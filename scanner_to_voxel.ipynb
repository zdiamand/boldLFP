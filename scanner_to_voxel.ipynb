{
 "cells": [
  {
   "cell_type": "code",
   "execution_count": 1,
   "id": "9c0b0aba-78b5-4ad8-b27a-1f4edd931490",
   "metadata": {},
   "outputs": [],
   "source": [
    "import nibabel as nib\n",
    "import numpy as np\n",
    "import math\n",
    "import subprocess\n",
    "import re\n",
    "\n",
    "\n",
    "def scanner_to_voxel(coords, affine):\n",
    "    return np.floor(nib.affines.apply_affine(np.linalg.inv(affine), coords))\n",
    "\n",
    "def convert_coords(coords, img='/users/zacharydiamandis/Documents/Caltech/ODohertyRotation/boldLFP/resliced_template.nii.gz'):\n",
    "    # Load the anatomical image\n",
    "    img = nib.load(img)\n",
    "    \n",
    "    # Get the affine transformation matrix\n",
    "    affine = img.affine\n",
    "\n",
    "    # Define the scanner space coordinates\n",
    "    voxel_coords = np.round(scanner_to_voxel(coords, affine)).astype(int)\n",
    "\n",
    "    return voxel_coords\n",
    "\n"
   ]
  },
  {
   "cell_type": "code",
   "execution_count": 2,
   "id": "26b0f5d5-42a3-4982-96fa-85d670727805",
   "metadata": {},
   "outputs": [],
   "source": [
    "import os\n",
    "\n",
    "os.environ[\"PATH\"] += os.pathsep + '/usr/local/fsl/bin'\n",
    "os.environ[\"FSLOUTPUTTYPE\"] = \"NIFTI_GZ\""
   ]
  },
  {
   "cell_type": "code",
   "execution_count": 3,
   "id": "b20737cc-996a-48e0-bbcc-1c167951f44d",
   "metadata": {},
   "outputs": [
    {
     "name": "stdout",
     "output_type": "stream",
     "text": [
      "No Coordinates found for 'P62CS' in 'LAmicro'\n",
      "No Coordinates found for 'P64CS' in 'RAmicro'\n",
      "No Coordinates found for 'P62CS' in 'LHFmicro'\n",
      "No Coordinates found for 'P64CS' in 'RHFmicro'\n",
      "No Coordinates found for 'P62CS' in 'LACCmicro'\n",
      "No Coordinates found for 'P62CS' in 'LSMAmicro'\n",
      "No Coordinates found for 'P62CS' in 'LOFCmicro'\n"
     ]
    }
   ],
   "source": [
    "import pandas as pd\n",
    "import subprocess\n",
    "\n",
    "# Read in the MNI locations\n",
    "mniLocations = pd.read_csv('MNI_electrodePos.csv', header = 3)\n",
    "\n",
    "# Select the columns that end with \"micro\" and the \"Patient ID\" column\n",
    "columns_to_keep = mniLocations.filter(regex='micro$|^Patient ID$')\n",
    "\n",
    "# Specify the patient IDs to keep\n",
    "patient_ids = ['P71CS', 'P70CS', 'P70CS', 'P69CS', 'P69CS', 'P68CS', 'P67CS', 'P67CS', 'P65CS', 'P64CS', 'P63CS', 'P62CS', 'P61CS', 'P60CS']\n",
    "\n",
    "# Select the rows with the specified patient IDs\n",
    "microLocations = columns_to_keep[mniLocations['Patient ID'].isin(patient_ids)]\n",
    "\n",
    "# Extract brain regions\n",
    "regions = microLocations.columns[1:]\n",
    "\n",
    "# List of subjects\n",
    "patients = microLocations['Patient ID']\n",
    "\n",
    "# Iterate through regions\n",
    "for region in regions:\n",
    "    \n",
    "    # Get coordinates of all subjects for that region\n",
    "    regionCoords = microLocations[region]\n",
    "    \n",
    "    # Number of subjects for that region \n",
    "    N = len(regionCoords)\n",
    "    \n",
    "    acc_bin_file_list = []\n",
    "    # Iterate through subjects in region\n",
    "    for i in range(N):\n",
    "        patient = patients.iloc[i]\n",
    "        coord_string = regionCoords.iloc[i]\n",
    "        if pd.isna(coord_string):\n",
    "            print(\"No Coordinates found for '{0}' in '{1}'\".format(patient, region))\n",
    "            continue\n",
    "        coordsMNI = [float(x) for x in re.findall(r'-?\\d+(?:\\.\\d+)?', coord_string)]\n",
    "        if len(coordsMNI) != 3:\n",
    "            print(\"Incorrect number of coordinates found for '{0}' in '{1}'\".format(patient, region))\n",
    "            continue\n",
    "        voxel_coords = convert_coords(coordsMNI)\n",
    "        \n",
    "        output_folder = \"/users/zacharydiamandis/Documents/Caltech/ODohertyRotation/boldLFP/bold/masks/\"\n",
    "        ACCpoint_file = output_folder + region + \"_ACCpoint_\" + patient\n",
    "        ACCsphere_file = output_folder + region + \"_ACCsphere_\" + patient\n",
    "        ACCsphere_bin_file = output_folder + region + \"_ACCsphere_bin_\" + patient\n",
    "        acc_bin_file_list.append(ACCsphere_bin_file)\n",
    "\n",
    "        fslmaths_command_1 = \"fslmaths /users/zacharydiamandis/Documents/Caltech/ODohertyRotation/boldLFP/resliced_template.nii.gz -mul 0 -add 1 -roi {0} 1 {1} 1 {2} 1 0 1 {3} -odt float\".format(voxel_coords[0], voxel_coords[1], voxel_coords[2], ACCpoint_file)\n",
    "        fslmaths_command_2 = \"fslmaths {0} -kernel sphere 8 -fmean {1} -odt float\".format(ACCpoint_file, ACCsphere_file)\n",
    "        fslmaths_command_3 = \"fslmaths {0} -bin {1}\".format(ACCsphere_file, ACCsphere_bin_file)\n",
    "\n",
    "        subprocess.run(fslmaths_command_1, shell=True, check=True)\n",
    "        subprocess.run(fslmaths_command_2, shell=True, check=True)\n",
    "        subprocess.run(fslmaths_command_3, shell=True, check=True)\n",
    "    \n",
    "    #union_file = output_folder + region + \"_union_of_all_subjects.nii.gz\"\n",
    "    union_output_folder = \"/users/zacharydiamandis/Documents/Caltech/ODohertyRotation/boldLFP/bold/union/\"\n",
    "\n",
    "    command = 'fslmaths'\n",
    "    for i, file_path in enumerate(acc_bin_file_list):\n",
    "        command += ' {0}'.format(file_path)\n",
    "        if i < len(acc_bin_file_list) - 1:\n",
    "            command += ' -add'\n",
    "    command += ' -bin {0}{1}_union_of_all_subjects.nii.gz'.format(union_output_folder, region)\n",
    "\n",
    "\n",
    "    fslmaths_command_4 = command\n",
    "\n",
    "    subprocess.run(fslmaths_command_4, shell=True, check=True)\n",
    "\n",
    "\n",
    "\n",
    "        \n",
    "        \n",
    "    \n"
   ]
  },
  {
   "cell_type": "code",
   "execution_count": 4,
   "id": "533ad316-ed70-43c2-b0aa-62774f5426e6",
   "metadata": {},
   "outputs": [
    {
     "data": {
      "text/plain": [
       "'2.48,33.28,-20.24'"
      ]
     },
     "execution_count": 4,
     "metadata": {},
     "output_type": "execute_result"
    }
   ],
   "source": [
    "coord_string"
   ]
  },
  {
   "cell_type": "code",
   "execution_count": null,
   "id": "c85ea488-5d87-4fc8-8dd3-917ac1f843fc",
   "metadata": {},
   "outputs": [],
   "source": [
    "\n"
   ]
  },
  {
   "cell_type": "code",
   "execution_count": 5,
   "id": "518c98a8-f861-4923-9a79-562d0dd86036",
   "metadata": {},
   "outputs": [],
   "source": [
    "# region = 'LAmicro'\n",
    "# regionCoords = microLocations[region]\n",
    "    \n",
    "# # Number of subjects for that region \n",
    "# N = len(regionCoords)\n",
    "\n",
    "# acc_bin_file_list = []\n",
    "# # Iterate through subjects in region\n",
    "# for i in range(N):\n",
    "#     patient = patients.iloc[i]\n",
    "#     coord_string = regionCoords.iloc[i]\n",
    "#     if pd.isna(coord_string):\n",
    "#         print(\"No Coordinates found for '{0}' in '{1}'\".format(patient, region))\n",
    "#         continue\n",
    "#     coordsMNI = [float(x) for x in coord_string.split(',')]\n",
    "#     voxel_coords = convert_coords(coordsMNI)\n",
    "\n",
    "#     output_folder = \"/users/zacharydiamandis/Documents/Caltech/ODohertyRotation/boldLFP/bold/masks/\"\n",
    "#     ACCpoint_file = output_folder + \"ACCpoint_\" + patient\n",
    "#     ACCsphere_file = output_folder + \"ACCsphere_\" + patient\n",
    "#     ACCsphere_bin_file = output_folder + \"ACCsphere_bin_\" + patient\n",
    "#     acc_bin_file_list.append(ACCsphere_bin_file)\n",
    "\n",
    "#     fslmaths_command_1 = \"fslmaths /users/zacharydiamandis/Documents/Caltech/ODohertyRotation/boldLFP/resliced_template.nii.gz -mul 0 -add 1 -roi {0} 1 {1} 1 {2} 1 0 1 {3} -odt float\".format(voxel_coords[0], voxel_coords[1], voxel_coords[2], ACCpoint_file)\n",
    "#     fslmaths_command_2 = \"fslmaths {0} -kernel sphere 8 -fmean {1} -odt float\".format(ACCpoint_file, ACCsphere_file)\n",
    "#     fslmaths_command_3 = \"fslmaths {0} -bin {1}\".format(ACCsphere_file, ACCsphere_bin_file)\n",
    "\n",
    "#     subprocess.run(fslmaths_command_1, shell=True, check=True)\n",
    "#     subprocess.run(fslmaths_command_2, shell=True, check=True)\n",
    "#     subprocess.run(fslmaths_command_3, shell=True, check=True)\n",
    "\n",
    "# union_file = output_folder + region + \"_union_of_all_subjects.nii.gz\"\n"
   ]
  },
  {
   "cell_type": "code",
   "execution_count": 6,
   "id": "195836fa-e5d7-45ca-abb7-bf051c0460a1",
   "metadata": {},
   "outputs": [],
   "source": [
    "# union_file = output_folder + region + \"_union_of_all_subjects.nii.gz\"\n",
    "# union_output_folder = output_folder + '/union/'\n",
    "\n",
    "# command = 'fslmaths'\n",
    "# for i, file_path in enumerate(acc_bin_file_list):\n",
    "#     command += ' {0}'.format(file_path)\n",
    "#     if i < len(acc_bin_file_list) - 1:\n",
    "#         command += ' -add'\n",
    "# command += ' -bin {0}union_of_all_subjects.nii.gz'.format(union_output_folder)\n",
    "\n",
    "\n",
    "# fslmaths_command_4 = command\n",
    "\n",
    "# subprocess.run(fslmaths_command_4, shell=True, check=True)"
   ]
  }
 ],
 "metadata": {
  "kernelspec": {
   "display_name": "Python 3 (ipykernel)",
   "language": "python",
   "name": "python3"
  },
  "language_info": {
   "codemirror_mode": {
    "name": "ipython",
    "version": 3
   },
   "file_extension": ".py",
   "mimetype": "text/x-python",
   "name": "python",
   "nbconvert_exporter": "python",
   "pygments_lexer": "ipython3",
   "version": "3.9.7"
  }
 },
 "nbformat": 4,
 "nbformat_minor": 5
}
